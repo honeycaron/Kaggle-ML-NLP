{
 "cells": [
  {
   "cell_type": "code",
   "execution_count": 1,
   "metadata": {},
   "outputs": [
    {
     "name": "stderr",
     "output_type": "stream",
     "text": [
      "C:\\Users\\HoneyLab\\AppData\\Local\\conda\\conda\\envs\\ipykernel_py2\\lib\\site-packages\\gensim\\utils.py:1209: UserWarning: detected Windows; aliasing chunkize to chunkize_serial\n",
      "  warnings.warn(\"detected Windows; aliasing chunkize to chunkize_serial\")\n"
     ]
    }
   ],
   "source": [
    "#import warnings\n",
    "#warnings.simplefilter(\"ignore\", UserWarning)\n",
    "\n",
    "# Load the model that we created in Part 2\n",
    "from gensim.models import Word2Vec\n",
    "model = Word2Vec.load(\"300features_40minwords_10context\")"
   ]
  },
  {
   "cell_type": "code",
   "execution_count": 2,
   "metadata": {},
   "outputs": [
    {
     "name": "stderr",
     "output_type": "stream",
     "text": [
      "C:\\Users\\HoneyLab\\AppData\\Local\\conda\\conda\\envs\\ipykernel_py2\\lib\\site-packages\\ipykernel_launcher.py:1: DeprecationWarning: Call to deprecated `syn0` (Attribute will be removed in 4.0.0, use self.wv.vectors instead).\n",
      "  \"\"\"Entry point for launching an IPython kernel.\n"
     ]
    },
    {
     "data": {
      "text/plain": [
       "numpy.ndarray"
      ]
     },
     "execution_count": 2,
     "metadata": {},
     "output_type": "execute_result"
    }
   ],
   "source": [
    "type(model.wv.syn0)"
   ]
  },
  {
   "cell_type": "code",
   "execution_count": 3,
   "metadata": {},
   "outputs": [
    {
     "name": "stderr",
     "output_type": "stream",
     "text": [
      "C:\\Users\\HoneyLab\\AppData\\Local\\conda\\conda\\envs\\ipykernel_py2\\lib\\site-packages\\ipykernel_launcher.py:1: DeprecationWarning: Call to deprecated `syn0` (Attribute will be removed in 4.0.0, use self.wv.vectors instead).\n",
      "  \"\"\"Entry point for launching an IPython kernel.\n"
     ]
    },
    {
     "data": {
      "text/plain": [
       "(16490L, 300L)"
      ]
     },
     "execution_count": 3,
     "metadata": {},
     "output_type": "execute_result"
    }
   ],
   "source": [
    "model.wv.syn0.shape"
   ]
  },
  {
   "cell_type": "code",
   "execution_count": 4,
   "metadata": {},
   "outputs": [
    {
     "name": "stderr",
     "output_type": "stream",
     "text": [
      "C:\\Users\\HoneyLab\\AppData\\Local\\conda\\conda\\envs\\ipykernel_py2\\lib\\site-packages\\ipykernel_launcher.py:1: DeprecationWarning: Call to deprecated `__getitem__` (Method will be removed in 4.0.0, use self.wv.__getitem__() instead).\n",
      "  \"\"\"Entry point for launching an IPython kernel.\n"
     ]
    },
    {
     "data": {
      "text/plain": [
       "array([ 0.09976346,  0.13005055, -0.17678669,  0.03647486,  0.00167591,\n",
       "        0.01245973, -0.01651887,  0.06051581,  0.04559882, -0.01983203,\n",
       "        0.05429647,  0.027825  ,  0.06105758,  0.11033488, -0.01842705,\n",
       "       -0.14055894, -0.01983916,  0.02219632,  0.01654804, -0.04585262,\n",
       "       -0.03911435, -0.0702367 , -0.00556016, -0.00754615, -0.08039712,\n",
       "        0.06359547, -0.00362056,  0.00591992,  0.06332413,  0.08776218,\n",
       "        0.07755383, -0.10921101, -0.04672821,  0.07430797, -0.00626923,\n",
       "       -0.04202884,  0.05545001, -0.08564792,  0.03141235,  0.04546053,\n",
       "       -0.00208946,  0.07661194, -0.01132395, -0.07753473,  0.07682186,\n",
       "       -0.01956972, -0.03432458, -0.00851195, -0.06372458,  0.05737254,\n",
       "        0.00282303,  0.00870254, -0.00164249,  0.00599107, -0.06417681,\n",
       "       -0.04411836,  0.092971  ,  0.02835025, -0.10359111,  0.0128948 ,\n",
       "       -0.07753427, -0.01512899,  0.02915687,  0.01412042,  0.01396323,\n",
       "        0.04112278, -0.1273134 ,  0.06549972,  0.08382301, -0.03940766,\n",
       "       -0.05920434,  0.11164889, -0.08201141,  0.01878198,  0.06452661,\n",
       "       -0.08302587, -0.02561887,  0.05722411, -0.02728513,  0.13136835,\n",
       "       -0.00891143,  0.04288474, -0.02592976, -0.0844161 , -0.0260015 ,\n",
       "        0.02257731, -0.02720044, -0.13088678,  0.03985868, -0.03242057,\n",
       "       -0.13605155, -0.05789222,  0.01885647,  0.05944688, -0.06183844,\n",
       "       -0.02153703,  0.09941486,  0.00667759,  0.08335351,  0.03766957,\n",
       "       -0.07834647, -0.03623902, -0.007808  , -0.09034774, -0.01291464,\n",
       "       -0.076444  , -0.05189598,  0.05367244, -0.06094139, -0.12235284,\n",
       "        0.07986467,  0.00733822,  0.08400151,  0.05224526,  0.00923679,\n",
       "       -0.03064457,  0.08600628,  0.01147877,  0.04368705,  0.07645342,\n",
       "        0.04838036, -0.01295102, -0.02795707,  0.02219226,  0.05694833,\n",
       "        0.01278696, -0.0960089 ,  0.01164383, -0.00588385, -0.0158387 ,\n",
       "       -0.00493838,  0.05489323, -0.0284508 , -0.0642285 , -0.10324588,\n",
       "        0.07973821, -0.05588547, -0.06829236,  0.03275018, -0.02297541,\n",
       "       -0.06503094,  0.00122083,  0.01090723,  0.06300352,  0.15484202,\n",
       "       -0.02241878,  0.03898525,  0.05246202, -0.05198068, -0.02326627,\n",
       "        0.02899322,  0.00568999,  0.05361736,  0.02449086, -0.03911735,\n",
       "        0.07460655, -0.06713291,  0.03388661,  0.10326833,  0.05950875,\n",
       "       -0.08110417,  0.04922972,  0.03536471, -0.07732456, -0.04595123,\n",
       "        0.02271515, -0.0584159 ,  0.0559454 ,  0.06912536,  0.11043152,\n",
       "       -0.02692224, -0.10480008,  0.0296918 , -0.0064928 ,  0.00758818,\n",
       "        0.02970572,  0.02042909, -0.06343932,  0.02589089, -0.05354495,\n",
       "       -0.02428925, -0.03891868, -0.07178925, -0.04029208,  0.01922158,\n",
       "        0.04399848,  0.04684064, -0.06936302,  0.02641664, -0.02918744,\n",
       "       -0.03258745, -0.01313445,  0.03597291,  0.08030513,  0.04771784,\n",
       "        0.05659276, -0.09653612,  0.06365965,  0.00366135, -0.00934357,\n",
       "        0.00665569,  0.05813149, -0.01489426, -0.00257122,  0.09084761,\n",
       "       -0.06417333, -0.03779781, -0.02424647,  0.01938704,  0.09169725,\n",
       "       -0.02884914, -0.0075397 , -0.01793087,  0.04573831, -0.03244785,\n",
       "        0.02256869,  0.04825985, -0.00597699,  0.06684655, -0.03272256,\n",
       "        0.02401711,  0.04330776, -0.02160401, -0.02930576,  0.03036887,\n",
       "       -0.02728618,  0.02466189, -0.09587175,  0.02227769, -0.02588363,\n",
       "       -0.10446571,  0.04883208,  0.06953592, -0.07615147,  0.056147  ,\n",
       "       -0.02622674, -0.0151809 , -0.05072153,  0.06941968,  0.00975405,\n",
       "        0.07668737,  0.06206282,  0.01360655, -0.00649097, -0.00273478,\n",
       "       -0.0187196 ,  0.05313141,  0.08364731,  0.07489523, -0.06048428,\n",
       "        0.0696476 , -0.07159361, -0.05814808, -0.0189574 , -0.00612282,\n",
       "        0.05825562, -0.00586126, -0.03713129,  0.08148497,  0.00046716,\n",
       "        0.04595596, -0.01856279, -0.05182567,  0.0234568 ,  0.0789455 ,\n",
       "        0.02620456,  0.03941154, -0.01999946, -0.01022524,  0.07970447,\n",
       "       -0.07534723,  0.03952296, -0.02813252,  0.08452427, -0.05602884,\n",
       "        0.00894937,  0.04186906, -0.03035534, -0.02675094,  0.06185307,\n",
       "       -0.02199544,  0.02271666,  0.0839356 , -0.01321555, -0.04482022,\n",
       "        0.05785698, -0.08607043, -0.1595021 , -0.05590896, -0.01218101,\n",
       "       -0.06862996,  0.03752936, -0.0928462 , -0.05504006, -0.03396683,\n",
       "        0.06722947, -0.06732094,  0.07105733,  0.04483687,  0.05862867],\n",
       "      dtype=float32)"
      ]
     },
     "execution_count": 4,
     "metadata": {},
     "output_type": "execute_result"
    }
   ],
   "source": [
    "model[\"flower\"]"
   ]
  },
  {
   "cell_type": "code",
   "execution_count": 18,
   "metadata": {},
   "outputs": [],
   "source": [
    "import numpy as np  # Make sure that numpy is imported\n",
    "import pandas as pd\n",
    "\n",
    "# Read data from files \n",
    "train = pd.read_csv( \"data/labeledTrainData.tsv\", header=0, \n",
    " delimiter=\"\\t\", quoting=3 )\n",
    "test = pd.read_csv( \"data/testData.tsv\", header=0, delimiter=\"\\t\", quoting=3 )\n",
    "unlabeled_train = pd.read_csv( \"data/unlabeledTrainData.tsv\", header=0, \n",
    " delimiter=\"\\t\", quoting=3 )\n",
    "# Import various modules for string cleaning\n",
    "from bs4 import BeautifulSoup\n",
    "import re\n",
    "from nltk.corpus import stopwords\n",
    "\n",
    "def review_to_wordlist( review, remove_stopwords=False ):\n",
    "    # Function to convert a document to a sequence of words,\n",
    "    # optionally removing stop words.  Returns a list of words.\n",
    "    #\n",
    "    # 1. Remove HTML\n",
    "    review_text = BeautifulSoup(review).get_text()\n",
    "    #  \n",
    "    # 2. Remove non-letters\n",
    "    review_text = re.sub(\"[^a-zA-Z]\",\" \", review_text)\n",
    "    #\n",
    "    # 3. Convert words to lower case and split them\n",
    "    words = review_text.lower().split()\n",
    "    #\n",
    "    # 4. Optionally remove stop words (false by default)\n",
    "    if remove_stopwords:\n",
    "        stops = set(stopwords.words(\"english\"))\n",
    "        words = [w for w in words if not w in stops]\n",
    "    #\n",
    "    # 5. Return a list of words\n",
    "    return(words) \n",
    "def makeFeatureVec(words, model, num_features):\n",
    "    # Function to average all of the word vectors in a given\n",
    "    # paragraph\n",
    "    #\n",
    "    # Pre-initialize an empty numpy array (for speed)\n",
    "    featureVec = np.zeros((num_features,),dtype=\"float32\")\n",
    "    #\n",
    "    nwords = 0.\n",
    "    # \n",
    "    # Index2word is a list that contains the names of the words in \n",
    "    # the model's vocabulary. Convert it to a set, for speed \n",
    "    index2word_set = set(model.wv.index2word)\n",
    "    #\n",
    "    # Loop over each word in the review and, if it is in the model's\n",
    "    # vocaublary, add its feature vector to the total\n",
    "    for word in words:\n",
    "        if word in index2word_set: \n",
    "            nwords = nwords + 1.\n",
    "            featureVec = np.add(featureVec,model[word])\n",
    "    # \n",
    "    # Divide the result by the number of words to get the average\n",
    "    featureVec = np.divide(featureVec,nwords)\n",
    "    return featureVec\n",
    "\n",
    "\n",
    "def getAvgFeatureVecs(reviews, model, num_features):\n",
    "    # Given a set of reviews (each one a list of words), calculate \n",
    "    # the average feature vector for each one and return a 2D numpy array \n",
    "    # \n",
    "    # Initialize a counter\n",
    "    counter = 0.\n",
    "    # \n",
    "    # Preallocate a 2D numpy array, for speed\n",
    "    reviewFeatureVecs = np.zeros((len(reviews),num_features),dtype=\"float32\")\n",
    "    # \n",
    "    # Loop through the reviews\n",
    "    for review in reviews:\n",
    "       #\n",
    "       # Print a status message every 1000th review\n",
    "       if counter%1000. == 0.:\n",
    "           print \"Review %d of %d\" % (counter, len(reviews))\n",
    "       # \n",
    "       # Call the function (defined above) that makes average feature vectors\n",
    "       reviewFeatureVecs[int(counter)] = makeFeatureVec(review, model, \\\n",
    "           num_features)\n",
    "       #\n",
    "       # Increment the counter\n",
    "       counter = counter + 1.\n",
    "    return reviewFeatureVecs"
   ]
  },
  {
   "cell_type": "code",
   "execution_count": 19,
   "metadata": {},
   "outputs": [
    {
     "name": "stdout",
     "output_type": "stream",
     "text": [
      "Review 0 of 25000\n"
     ]
    },
    {
     "name": "stderr",
     "output_type": "stream",
     "text": [
      "C:\\Users\\HoneyLab\\AppData\\Local\\conda\\conda\\envs\\ipykernel_py2\\lib\\site-packages\\ipykernel_launcher.py:53: DeprecationWarning: Call to deprecated `__getitem__` (Method will be removed in 4.0.0, use self.wv.__getitem__() instead).\n"
     ]
    },
    {
     "name": "stdout",
     "output_type": "stream",
     "text": [
      "Review 1000 of 25000\n",
      "Review 2000 of 25000\n",
      "Review 3000 of 25000\n",
      "Review 4000 of 25000\n",
      "Review 5000 of 25000\n",
      "Review 6000 of 25000\n",
      "Review 7000 of 25000\n",
      "Review 8000 of 25000\n",
      "Review 9000 of 25000\n",
      "Review 10000 of 25000\n",
      "Review 11000 of 25000\n",
      "Review 12000 of 25000\n",
      "Review 13000 of 25000\n",
      "Review 14000 of 25000\n",
      "Review 15000 of 25000\n",
      "Review 16000 of 25000\n",
      "Review 17000 of 25000\n",
      "Review 18000 of 25000\n",
      "Review 19000 of 25000\n",
      "Review 20000 of 25000\n",
      "Review 21000 of 25000\n",
      "Review 22000 of 25000\n",
      "Review 23000 of 25000\n",
      "Review 24000 of 25000\n"
     ]
    },
    {
     "name": "stderr",
     "output_type": "stream",
     "text": [
      "C:\\Users\\HoneyLab\\AppData\\Local\\conda\\conda\\envs\\ipykernel_py2\\lib\\site-packages\\ipykernel_launcher.py:56: RuntimeWarning: invalid value encountered in divide\n"
     ]
    },
    {
     "name": "stdout",
     "output_type": "stream",
     "text": [
      "Creating average feature vecs for test reviews\n",
      "Review 0 of 25000\n",
      "Review 1000 of 25000\n",
      "Review 2000 of 25000\n",
      "Review 3000 of 25000\n",
      "Review 4000 of 25000\n",
      "Review 5000 of 25000\n",
      "Review 6000 of 25000\n",
      "Review 7000 of 25000\n",
      "Review 8000 of 25000\n",
      "Review 9000 of 25000\n",
      "Review 10000 of 25000\n",
      "Review 11000 of 25000\n",
      "Review 12000 of 25000\n",
      "Review 13000 of 25000\n",
      "Review 14000 of 25000\n",
      "Review 15000 of 25000\n",
      "Review 16000 of 25000\n",
      "Review 17000 of 25000\n",
      "Review 18000 of 25000\n",
      "Review 19000 of 25000\n",
      "Review 20000 of 25000\n",
      "Review 21000 of 25000\n",
      "Review 22000 of 25000\n",
      "Review 23000 of 25000\n",
      "Review 24000 of 25000\n"
     ]
    }
   ],
   "source": [
    "# ****************************************************************\n",
    "# Calculate average feature vectors for training and testing sets,\n",
    "# using the functions we defined above. Notice that we now use stop word\n",
    "# removal.\n",
    "\n",
    "clean_train_reviews = []\n",
    "for review in train[\"review\"]:\n",
    "    clean_train_reviews.append( review_to_wordlist( review, \\\n",
    "        remove_stopwords=True ))\n",
    "\n",
    "trainDataVecs = getAvgFeatureVecs( clean_train_reviews, model, 300 )\n",
    "\n",
    "print \"Creating average feature vecs for test reviews\"\n",
    "clean_test_reviews = []\n",
    "for review in test[\"review\"]:\n",
    "    clean_test_reviews.append( review_to_wordlist( review, \\\n",
    "        remove_stopwords=True ))\n",
    "\n",
    "testDataVecs = getAvgFeatureVecs( clean_test_reviews, model, 300 )"
   ]
  },
  {
   "cell_type": "code",
   "execution_count": 23,
   "metadata": {},
   "outputs": [
    {
     "name": "stdout",
     "output_type": "stream",
     "text": [
      "Fitting a random forest to labeled training data...\n"
     ]
    }
   ],
   "source": [
    "# Fit a random forest to the training data, using 100 trees\n",
    "from sklearn.ensemble import RandomForestClassifier\n",
    "forest = RandomForestClassifier( n_estimators = 100, n_jobs = -1, random_state=2018)\n",
    "\n",
    "print \"Fitting a random forest to labeled training data...\"\n",
    "#NAN 값 처리\n",
    "trainDataVecs = np.nan_to_num(trainDataVecs)\n",
    "testDataVecs = np.nan_to_num(testDataVecs)\n",
    "forest = forest.fit( trainDataVecs, train[\"sentiment\"] )\n",
    "\n",
    "# Test & extract results \n",
    "result = forest.predict( testDataVecs )\n",
    "\n",
    "# Write the test results \n",
    "output = pd.DataFrame( data={\"id\":test[\"id\"], \"sentiment\":result} )\n",
    "output.to_csv( \"Word2Vec_AverageVectors.csv\", index=False, quoting=3 )"
   ]
  },
  {
   "cell_type": "code",
   "execution_count": 24,
   "metadata": {},
   "outputs": [
    {
     "name": "stderr",
     "output_type": "stream",
     "text": [
      "C:\\Users\\HoneyLab\\AppData\\Local\\conda\\conda\\envs\\ipykernel_py2\\lib\\site-packages\\ipykernel_launcher.py:9: DeprecationWarning: Call to deprecated `syn0` (Attribute will be removed in 4.0.0, use self.wv.vectors instead).\n",
      "  if __name__ == '__main__':\n"
     ]
    },
    {
     "name": "stdout",
     "output_type": "stream",
     "text": [
      "Time taken for K Means clustering:  534.68200016 seconds.\n"
     ]
    }
   ],
   "source": [
    "#From Words to Paragraphs, Attempt 2: Clustering \n",
    "from sklearn.cluster import KMeans\n",
    "import time\n",
    "\n",
    "start = time.time() # Start time\n",
    "\n",
    "# Set \"k\" (num_clusters) to be 1/5th of the vocabulary size, or an\n",
    "# average of 5 words per cluster\n",
    "word_vectors = model.wv.syn0\n",
    "num_clusters = word_vectors.shape[0] / 5\n",
    "\n",
    "# Initalize a k-means object and use it to extract centroids\n",
    "kmeans_clustering = KMeans( n_clusters = num_clusters )\n",
    "idx = kmeans_clustering.fit_predict( word_vectors )\n",
    "\n",
    "# Get the end time and print how long the process took\n",
    "end = time.time()\n",
    "elapsed = end - start\n",
    "print \"Time taken for K Means clustering: \", elapsed, \"seconds.\""
   ]
  },
  {
   "cell_type": "code",
   "execution_count": 25,
   "metadata": {},
   "outputs": [],
   "source": [
    "# Create a Word / Index dictionary, mapping each vocabulary word to\n",
    "# a cluster number                                                                                            \n",
    "word_centroid_map = dict(zip( model.wv.index2word, idx ))"
   ]
  },
  {
   "cell_type": "code",
   "execution_count": 26,
   "metadata": {},
   "outputs": [
    {
     "name": "stdout",
     "output_type": "stream",
     "text": [
      "\n",
      "Cluster 0\n",
      "[u'admission', u'price', u'owning']\n",
      "\n",
      "Cluster 1\n",
      "[u'maclaine', u'mimi', u'beavers', u'betty', u'mamie', u'mansfield', u'grable', u'jezebel', u'mae', u'durbin', u'wilde', u'edith', u'sabrina', u'lucille', u'shirley', u'tate', u'boop']\n",
      "\n",
      "Cluster 2\n",
      "[u'ordering', u'chambers', u'seal', u'narrowly', u'pi', u'fountain', u'leak']\n",
      "\n",
      "Cluster 3\n",
      "[u'elevated']\n",
      "\n",
      "Cluster 4\n",
      "[u'abundant', u'occasional', u'plentiful', u'frequent', u'bloodless']\n",
      "\n",
      "Cluster 5\n",
      "[u'miner', u'penniless', u'patron', u'digger']\n",
      "\n",
      "Cluster 6\n",
      "[u'argues']\n",
      "\n",
      "Cluster 7\n",
      "[u'commonplace', u'radical', u'progressive']\n",
      "\n",
      "Cluster 8\n",
      "[u'edinburgh', u'premier', u'circuit', u'venice', u'attending', u'annual', u'graduation', u'ceremony']\n",
      "\n",
      "Cluster 9\n",
      "[u'imagery', u'colour', u'texture', u'colours', u'tones', u'shadows', u'colors', u'lenses', u'color', u'sepia', u'shades']\n"
     ]
    }
   ],
   "source": [
    "# For the first 10 clusters\n",
    "for cluster in xrange(0,10):\n",
    "    #\n",
    "    # Print the cluster number  \n",
    "    print \"\\nCluster %d\" % cluster\n",
    "    #\n",
    "    # Find all of the words for that cluster number, and print them out\n",
    "    words = []\n",
    "    for i in xrange(0,len(word_centroid_map.values())):\n",
    "        if( word_centroid_map.values()[i] == cluster ):\n",
    "            words.append(word_centroid_map.keys()[i])\n",
    "    print words"
   ]
  },
  {
   "cell_type": "code",
   "execution_count": 27,
   "metadata": {},
   "outputs": [],
   "source": [
    "def create_bag_of_centroids( wordlist, word_centroid_map ):\n",
    "    #\n",
    "    # The number of clusters is equal to the highest cluster index\n",
    "    # in the word / centroid map\n",
    "    num_centroids = max( word_centroid_map.values() ) + 1\n",
    "    #\n",
    "    # Pre-allocate the bag of centroids vector (for speed)\n",
    "    bag_of_centroids = np.zeros( num_centroids, dtype=\"float32\" )\n",
    "    #\n",
    "    # Loop over the words in the review. If the word is in the vocabulary,\n",
    "    # find which cluster it belongs to, and increment that cluster count \n",
    "    # by one\n",
    "    for word in wordlist:\n",
    "        if word in word_centroid_map:\n",
    "            index = word_centroid_map[word]\n",
    "            bag_of_centroids[index] += 1\n",
    "    #\n",
    "    # Return the \"bag of centroids\"\n",
    "    return bag_of_centroids"
   ]
  },
  {
   "cell_type": "code",
   "execution_count": 28,
   "metadata": {},
   "outputs": [],
   "source": [
    "# Pre-allocate an array for the training set bags of centroids (for speed)\n",
    "train_centroids = np.zeros( (train[\"review\"].size, num_clusters), \\\n",
    "    dtype=\"float32\" )\n",
    "\n",
    "# Transform the training set reviews into bags of centroids\n",
    "counter = 0\n",
    "for review in clean_train_reviews:\n",
    "    train_centroids[counter] = create_bag_of_centroids( review, \\\n",
    "        word_centroid_map )\n",
    "    counter += 1\n",
    "\n",
    "# Repeat for test reviews \n",
    "test_centroids = np.zeros(( test[\"review\"].size, num_clusters), \\\n",
    "    dtype=\"float32\" )\n",
    "\n",
    "counter = 0\n",
    "for review in clean_test_reviews:\n",
    "    test_centroids[counter] = create_bag_of_centroids( review, \\\n",
    "        word_centroid_map )\n",
    "    counter += 1"
   ]
  },
  {
   "cell_type": "code",
   "execution_count": 29,
   "metadata": {},
   "outputs": [
    {
     "name": "stdout",
     "output_type": "stream",
     "text": [
      "Fitting a random forest to labeled training data...\n"
     ]
    }
   ],
   "source": [
    "# Fit a random forest and extract predictions \n",
    "forest = RandomForestClassifier(n_estimators = 100)\n",
    "\n",
    "# Fitting the forest may take a few minutes\n",
    "print \"Fitting a random forest to labeled training data...\"\n",
    "forest = forest.fit(train_centroids,train[\"sentiment\"])\n",
    "result = forest.predict(test_centroids)\n",
    "\n",
    "# Write the test results \n",
    "output = pd.DataFrame(data={\"id\":test[\"id\"], \"sentiment\":result})\n",
    "output.to_csv( \"BagOfCentroids.csv\", index=False, quoting=3 )"
   ]
  }
 ],
 "metadata": {
  "kernelspec": {
   "display_name": "Python 2",
   "language": "python",
   "name": "python2"
  },
  "language_info": {
   "codemirror_mode": {
    "name": "ipython",
    "version": 2
   },
   "file_extension": ".py",
   "mimetype": "text/x-python",
   "name": "python",
   "nbconvert_exporter": "python",
   "pygments_lexer": "ipython2",
   "version": "2.7.15"
  }
 },
 "nbformat": 4,
 "nbformat_minor": 2
}
