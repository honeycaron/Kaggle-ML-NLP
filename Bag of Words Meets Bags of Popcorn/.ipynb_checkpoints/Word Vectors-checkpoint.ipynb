{
 "cells": [
  {
   "cell_type": "code",
   "execution_count": 1,
   "metadata": {},
   "outputs": [
    {
     "name": "stdout",
     "output_type": "stream",
     "text": [
      "Read 25000 labeled train reviews, 25000 labeled test reviews, and 50000 unlabeled reviews\n",
      "\n"
     ]
    }
   ],
   "source": [
    "import warnings\n",
    "warnings.simplefilter(\"ignore\", UserWarning)\n",
    "\n",
    "import pandas as pd\n",
    "\n",
    "# Read data from files \n",
    "train = pd.read_csv( \"data/labeledTrainData.tsv\", header=0, \n",
    " delimiter=\"\\t\", quoting=3 )\n",
    "test = pd.read_csv( \"data/testData.tsv\", header=0, delimiter=\"\\t\", quoting=3 )\n",
    "unlabeled_train = pd.read_csv( \"data/unlabeledTrainData.tsv\", header=0, \n",
    " delimiter=\"\\t\", quoting=3 )\n",
    "\n",
    "# Verify the number of reviews that were read (100,000 in total)\n",
    "print \"Read %d labeled train reviews, %d labeled test reviews, \" \\\n",
    " \"and %d unlabeled reviews\\n\" % (train[\"review\"].size,  \n",
    " test[\"review\"].size, unlabeled_train[\"review\"].size )"
   ]
  },
  {
   "cell_type": "code",
   "execution_count": 2,
   "metadata": {},
   "outputs": [],
   "source": [
    "# Import various modules for string cleaning\n",
    "from bs4 import BeautifulSoup\n",
    "import re\n",
    "from nltk.corpus import stopwords\n",
    "\n",
    "def review_to_wordlist( review, remove_stopwords=False ):\n",
    "    # Function to convert a document to a sequence of words,\n",
    "    # optionally removing stop words.  Returns a list of words.\n",
    "    #\n",
    "    # 1. Remove HTML\n",
    "    review_text = BeautifulSoup(review).get_text()\n",
    "    #  \n",
    "    # 2. Remove non-letters\n",
    "    review_text = re.sub(\"[^a-zA-Z]\",\" \", review_text)\n",
    "    #\n",
    "    # 3. Convert words to lower case and split them\n",
    "    words = review_text.lower().split()\n",
    "    #\n",
    "    # 4. Optionally remove stop words (false by default)\n",
    "    if remove_stopwords:\n",
    "        stops = set(stopwords.words(\"english\"))\n",
    "        words = [w for w in words if not w in stops]\n",
    "    #\n",
    "    # 5. Return a list of words\n",
    "    return(words)"
   ]
  },
  {
   "cell_type": "code",
   "execution_count": 3,
   "metadata": {},
   "outputs": [],
   "source": [
    "# Punkt tokenizer for sentence splitting\n",
    "import nltk.data\n",
    " \n",
    "\n",
    "# Load the punkt tokenizer\n",
    "tokenizer = nltk.data.load('tokenizers/punkt/english.pickle')\n",
    "\n",
    "# Define a function to split a review into parsed sentences\n",
    "def review_to_sentences( review, tokenizer, remove_stopwords=False ):\n",
    "    # Function to split a review into parsed sentences. Returns a \n",
    "    # list of sentences, where each sentence is a list of words\n",
    "    #\n",
    "    # 1. Use the NLTK tokenizer to split the paragraph into sentences\n",
    "    raw_sentences = tokenizer.tokenize(review.decode('utf-8').strip())\n",
    "    #\n",
    "    # 2. Loop over each sentence\n",
    "    sentences = []\n",
    "    for raw_sentence in raw_sentences:\n",
    "        # If a sentence is empty, skip it\n",
    "        if len(raw_sentence) > 0:\n",
    "            # Otherwise, call review_to_wordlist to get a list of words\n",
    "            sentences.append( review_to_wordlist( raw_sentence, \\\n",
    "              remove_stopwords ))\n",
    "    #\n",
    "    # Return the list of sentences (each sentence is a list of words,\n",
    "    # so this returns a list of lists\n",
    "    return sentences"
   ]
  },
  {
   "cell_type": "code",
   "execution_count": 4,
   "metadata": {},
   "outputs": [
    {
     "name": "stdout",
     "output_type": "stream",
     "text": [
      "Parsing sentences from training set\n",
      "Parsing sentences from unlabeled set\n"
     ]
    }
   ],
   "source": [
    "sentences = []  # Initialize an empty list of sentences\n",
    "\n",
    "print \"Parsing sentences from training set\"\n",
    "for review in train[\"review\"]:\n",
    "    sentences += review_to_sentences(review, tokenizer)\n",
    "\n",
    "print \"Parsing sentences from unlabeled set\"\n",
    "for review in unlabeled_train[\"review\"]:\n",
    "    sentences += review_to_sentences(review, tokenizer)"
   ]
  },
  {
   "cell_type": "code",
   "execution_count": 5,
   "metadata": {},
   "outputs": [
    {
     "name": "stdout",
     "output_type": "stream",
     "text": [
      "795538\n"
     ]
    }
   ],
   "source": [
    "# Check how many sentences we have in total - should be around 850,000+\n",
    "print len(sentences)"
   ]
  },
  {
   "cell_type": "code",
   "execution_count": 6,
   "metadata": {},
   "outputs": [
    {
     "name": "stdout",
     "output_type": "stream",
     "text": [
      "[u'with', u'all', u'this', u'stuff', u'going', u'down', u'at', u'the', u'moment', u'with', u'mj', u'i', u've', u'started', u'listening', u'to', u'his', u'music', u'watching', u'the', u'odd', u'documentary', u'here', u'and', u'there', u'watched', u'the', u'wiz', u'and', u'watched', u'moonwalker', u'again']\n"
     ]
    }
   ],
   "source": [
    "print sentences[0]"
   ]
  },
  {
   "cell_type": "code",
   "execution_count": 7,
   "metadata": {},
   "outputs": [
    {
     "name": "stdout",
     "output_type": "stream",
     "text": [
      "[u'maybe', u'i', u'just', u'want', u'to', u'get', u'a', u'certain', u'insight', u'into', u'this', u'guy', u'who', u'i', u'thought', u'was', u'really', u'cool', u'in', u'the', u'eighties', u'just', u'to', u'maybe', u'make', u'up', u'my', u'mind', u'whether', u'he', u'is', u'guilty', u'or', u'innocent']\n"
     ]
    }
   ],
   "source": [
    "print sentences[1]"
   ]
  },
  {
   "cell_type": "code",
   "execution_count": 8,
   "metadata": {},
   "outputs": [
    {
     "name": "stderr",
     "output_type": "stream",
     "text": [
      "2018-12-26 07:03:50,164 : INFO : 'pattern' package not found; tag filters are not available for English\n",
      "2018-12-26 07:03:50,174 : INFO : collecting all words and their counts\n",
      "2018-12-26 07:03:50,177 : INFO : PROGRESS: at sentence #0, processed 0 words, keeping 0 word types\n",
      "2018-12-26 07:03:50,220 : INFO : PROGRESS: at sentence #10000, processed 225803 words, keeping 17776 word types\n",
      "2018-12-26 07:03:50,266 : INFO : PROGRESS: at sentence #20000, processed 451892 words, keeping 24948 word types\n",
      "2018-12-26 07:03:50,308 : INFO : PROGRESS: at sentence #30000, processed 671315 words, keeping 30034 word types\n",
      "2018-12-26 07:03:50,348 : INFO : PROGRESS: at sentence #40000, processed 897815 words, keeping 34348 word types\n"
     ]
    },
    {
     "name": "stdout",
     "output_type": "stream",
     "text": [
      "Training model...\n"
     ]
    },
    {
     "name": "stderr",
     "output_type": "stream",
     "text": [
      "2018-12-26 07:03:50,398 : INFO : PROGRESS: at sentence #50000, processed 1116963 words, keeping 37761 word types\n",
      "2018-12-26 07:03:50,441 : INFO : PROGRESS: at sentence #60000, processed 1338404 words, keeping 40723 word types\n",
      "2018-12-26 07:03:50,487 : INFO : PROGRESS: at sentence #70000, processed 1561580 words, keeping 43333 word types\n",
      "2018-12-26 07:03:50,529 : INFO : PROGRESS: at sentence #80000, processed 1780887 words, keeping 45714 word types\n",
      "2018-12-26 07:03:50,573 : INFO : PROGRESS: at sentence #90000, processed 2004996 words, keeping 48135 word types\n",
      "2018-12-26 07:03:50,618 : INFO : PROGRESS: at sentence #100000, processed 2226966 words, keeping 50207 word types\n",
      "2018-12-26 07:03:50,667 : INFO : PROGRESS: at sentence #110000, processed 2446580 words, keeping 52081 word types\n",
      "2018-12-26 07:03:50,740 : INFO : PROGRESS: at sentence #120000, processed 2668775 words, keeping 54119 word types\n",
      "2018-12-26 07:03:50,783 : INFO : PROGRESS: at sentence #130000, processed 2894303 words, keeping 55847 word types\n",
      "2018-12-26 07:03:50,826 : INFO : PROGRESS: at sentence #140000, processed 3107005 words, keeping 57346 word types\n",
      "2018-12-26 07:03:50,869 : INFO : PROGRESS: at sentence #150000, processed 3332627 words, keeping 59055 word types\n",
      "2018-12-26 07:03:50,913 : INFO : PROGRESS: at sentence #160000, processed 3555315 words, keeping 60617 word types\n",
      "2018-12-26 07:03:50,954 : INFO : PROGRESS: at sentence #170000, processed 3778655 words, keeping 62077 word types\n",
      "2018-12-26 07:03:50,999 : INFO : PROGRESS: at sentence #180000, processed 3999236 words, keeping 63496 word types\n",
      "2018-12-26 07:03:51,042 : INFO : PROGRESS: at sentence #190000, processed 4224449 words, keeping 64794 word types\n",
      "2018-12-26 07:03:51,085 : INFO : PROGRESS: at sentence #200000, processed 4448603 words, keeping 66087 word types\n",
      "2018-12-26 07:03:51,127 : INFO : PROGRESS: at sentence #210000, processed 4669967 words, keeping 67390 word types\n",
      "2018-12-26 07:03:51,173 : INFO : PROGRESS: at sentence #220000, processed 4894968 words, keeping 68697 word types\n",
      "2018-12-26 07:03:51,217 : INFO : PROGRESS: at sentence #230000, processed 5117545 words, keeping 69958 word types\n",
      "2018-12-26 07:03:51,259 : INFO : PROGRESS: at sentence #240000, processed 5345050 words, keeping 71167 word types\n",
      "2018-12-26 07:03:51,305 : INFO : PROGRESS: at sentence #250000, processed 5559165 words, keeping 72351 word types\n",
      "2018-12-26 07:03:51,345 : INFO : PROGRESS: at sentence #260000, processed 5779146 words, keeping 73478 word types\n",
      "2018-12-26 07:03:51,391 : INFO : PROGRESS: at sentence #270000, processed 6000435 words, keeping 74767 word types\n",
      "2018-12-26 07:03:51,434 : INFO : PROGRESS: at sentence #280000, processed 6226314 words, keeping 76369 word types\n",
      "2018-12-26 07:03:51,473 : INFO : PROGRESS: at sentence #290000, processed 6449474 words, keeping 77839 word types\n",
      "2018-12-26 07:03:51,515 : INFO : PROGRESS: at sentence #300000, processed 6674077 words, keeping 79171 word types\n",
      "2018-12-26 07:03:51,555 : INFO : PROGRESS: at sentence #310000, processed 6899391 words, keeping 80480 word types\n",
      "2018-12-26 07:03:51,599 : INFO : PROGRESS: at sentence #320000, processed 7124278 words, keeping 81808 word types\n",
      "2018-12-26 07:03:51,640 : INFO : PROGRESS: at sentence #330000, processed 7346021 words, keeping 83030 word types\n",
      "2018-12-26 07:03:51,687 : INFO : PROGRESS: at sentence #340000, processed 7575533 words, keeping 84280 word types\n",
      "2018-12-26 07:03:51,730 : INFO : PROGRESS: at sentence #350000, processed 7798803 words, keeping 85425 word types\n",
      "2018-12-26 07:03:51,770 : INFO : PROGRESS: at sentence #360000, processed 8019427 words, keeping 86596 word types\n",
      "2018-12-26 07:03:51,816 : INFO : PROGRESS: at sentence #370000, processed 8246619 words, keeping 87708 word types\n",
      "2018-12-26 07:03:51,861 : INFO : PROGRESS: at sentence #380000, processed 8471766 words, keeping 88878 word types\n",
      "2018-12-26 07:03:51,920 : INFO : PROGRESS: at sentence #390000, processed 8701497 words, keeping 89907 word types\n",
      "2018-12-26 07:03:51,967 : INFO : PROGRESS: at sentence #400000, processed 8924446 words, keeping 90916 word types\n",
      "2018-12-26 07:03:52,012 : INFO : PROGRESS: at sentence #410000, processed 9145796 words, keeping 91880 word types\n",
      "2018-12-26 07:03:52,058 : INFO : PROGRESS: at sentence #420000, processed 9366876 words, keeping 92912 word types\n",
      "2018-12-26 07:03:52,118 : INFO : PROGRESS: at sentence #430000, processed 9594413 words, keeping 93932 word types\n",
      "2018-12-26 07:03:52,163 : INFO : PROGRESS: at sentence #440000, processed 9821166 words, keeping 94906 word types\n",
      "2018-12-26 07:03:52,213 : INFO : PROGRESS: at sentence #450000, processed 10044928 words, keeping 96036 word types\n",
      "2018-12-26 07:03:52,257 : INFO : PROGRESS: at sentence #460000, processed 10277688 words, keeping 97088 word types\n",
      "2018-12-26 07:03:52,308 : INFO : PROGRESS: at sentence #470000, processed 10505613 words, keeping 97933 word types\n",
      "2018-12-26 07:03:52,355 : INFO : PROGRESS: at sentence #480000, processed 10725997 words, keeping 98862 word types\n",
      "2018-12-26 07:03:52,401 : INFO : PROGRESS: at sentence #490000, processed 10952741 words, keeping 99871 word types\n",
      "2018-12-26 07:03:52,444 : INFO : PROGRESS: at sentence #500000, processed 11174397 words, keeping 100765 word types\n",
      "2018-12-26 07:03:52,490 : INFO : PROGRESS: at sentence #510000, processed 11399672 words, keeping 101699 word types\n",
      "2018-12-26 07:03:52,543 : INFO : PROGRESS: at sentence #520000, processed 11623020 words, keeping 102598 word types\n",
      "2018-12-26 07:03:52,588 : INFO : PROGRESS: at sentence #530000, processed 11847418 words, keeping 103400 word types\n",
      "2018-12-26 07:03:52,631 : INFO : PROGRESS: at sentence #540000, processed 12072033 words, keeping 104265 word types\n",
      "2018-12-26 07:03:52,674 : INFO : PROGRESS: at sentence #550000, processed 12297571 words, keeping 105133 word types\n",
      "2018-12-26 07:03:52,720 : INFO : PROGRESS: at sentence #560000, processed 12518861 words, keeping 105997 word types\n",
      "2018-12-26 07:03:52,766 : INFO : PROGRESS: at sentence #570000, processed 12747916 words, keeping 106787 word types\n",
      "2018-12-26 07:03:52,816 : INFO : PROGRESS: at sentence #580000, processed 12969412 words, keeping 107665 word types\n",
      "2018-12-26 07:03:52,864 : INFO : PROGRESS: at sentence #590000, processed 13194937 words, keeping 108501 word types\n",
      "2018-12-26 07:03:52,904 : INFO : PROGRESS: at sentence #600000, processed 13417135 words, keeping 109218 word types\n",
      "2018-12-26 07:03:52,944 : INFO : PROGRESS: at sentence #610000, processed 13638158 words, keeping 110092 word types\n",
      "2018-12-26 07:03:52,996 : INFO : PROGRESS: at sentence #620000, processed 13864483 words, keeping 110837 word types\n",
      "2018-12-26 07:03:53,038 : INFO : PROGRESS: at sentence #630000, processed 14088769 words, keeping 111610 word types\n",
      "2018-12-26 07:03:53,081 : INFO : PROGRESS: at sentence #640000, processed 14309552 words, keeping 112416 word types\n",
      "2018-12-26 07:03:53,122 : INFO : PROGRESS: at sentence #650000, processed 14535308 words, keeping 113196 word types\n",
      "2018-12-26 07:03:53,168 : INFO : PROGRESS: at sentence #660000, processed 14758098 words, keeping 113945 word types\n",
      "2018-12-26 07:03:53,213 : INFO : PROGRESS: at sentence #670000, processed 14981482 words, keeping 114643 word types\n",
      "2018-12-26 07:03:53,257 : INFO : PROGRESS: at sentence #680000, processed 15206314 words, keeping 115354 word types\n",
      "2018-12-26 07:03:53,302 : INFO : PROGRESS: at sentence #690000, processed 15428507 words, keeping 116131 word types\n",
      "2018-12-26 07:03:53,344 : INFO : PROGRESS: at sentence #700000, processed 15657213 words, keeping 116943 word types\n",
      "2018-12-26 07:03:53,384 : INFO : PROGRESS: at sentence #710000, processed 15880202 words, keeping 117596 word types\n",
      "2018-12-26 07:03:53,427 : INFO : PROGRESS: at sentence #720000, processed 16105489 words, keeping 118221 word types\n",
      "2018-12-26 07:03:53,470 : INFO : PROGRESS: at sentence #730000, processed 16331870 words, keeping 118954 word types\n",
      "2018-12-26 07:03:53,510 : INFO : PROGRESS: at sentence #740000, processed 16552903 words, keeping 119668 word types\n",
      "2018-12-26 07:03:53,549 : INFO : PROGRESS: at sentence #750000, processed 16771230 words, keeping 120295 word types\n",
      "2018-12-26 07:03:53,604 : INFO : PROGRESS: at sentence #760000, processed 16990622 words, keeping 120930 word types\n"
     ]
    },
    {
     "name": "stderr",
     "output_type": "stream",
     "text": [
      "2018-12-26 07:03:53,651 : INFO : PROGRESS: at sentence #770000, processed 17217759 words, keeping 121703 word types\n",
      "2018-12-26 07:03:53,696 : INFO : PROGRESS: at sentence #780000, processed 17447905 words, keeping 122402 word types\n",
      "2018-12-26 07:03:53,742 : INFO : PROGRESS: at sentence #790000, processed 17674981 words, keeping 123066 word types\n",
      "2018-12-26 07:03:53,769 : INFO : collected 123504 word types from a corpus of 17798082 raw words and 795538 sentences\n",
      "2018-12-26 07:03:53,772 : INFO : Loading a fresh vocabulary\n",
      "2018-12-26 07:03:53,864 : INFO : effective_min_count=40 retains 16490 unique words (13% of original 123504, drops 107014)\n",
      "2018-12-26 07:03:53,867 : INFO : effective_min_count=40 leaves 17238940 word corpus (96% of original 17798082, drops 559142)\n",
      "2018-12-26 07:03:53,927 : INFO : deleting the raw counts dictionary of 123504 items\n",
      "2018-12-26 07:03:53,937 : INFO : sample=0.001 downsamples 48 most-common words\n",
      "2018-12-26 07:03:53,940 : INFO : downsampling leaves estimated 12749658 word corpus (74.0% of prior 17238940)\n",
      "2018-12-26 07:03:53,990 : INFO : estimated required memory for 16490 words and 300 dimensions: 47821000 bytes\n",
      "2018-12-26 07:03:53,993 : INFO : resetting layer weights\n",
      "2018-12-26 07:03:54,217 : INFO : training model with 4 workers on 16490 vocabulary and 300 features, using sg=0 hs=0 sample=0.001 negative=5 window=10\n",
      "2018-12-26 07:03:55,226 : INFO : EPOCH 1 - PROGRESS: at 7.54% examples, 957022 words/s, in_qsize 7, out_qsize 0\n",
      "2018-12-26 07:03:56,230 : INFO : EPOCH 1 - PROGRESS: at 15.01% examples, 948827 words/s, in_qsize 7, out_qsize 0\n",
      "2018-12-26 07:03:57,239 : INFO : EPOCH 1 - PROGRESS: at 22.48% examples, 944985 words/s, in_qsize 7, out_qsize 0\n",
      "2018-12-26 07:03:58,239 : INFO : EPOCH 1 - PROGRESS: at 29.82% examples, 941680 words/s, in_qsize 8, out_qsize 0\n",
      "2018-12-26 07:03:59,243 : INFO : EPOCH 1 - PROGRESS: at 37.06% examples, 935888 words/s, in_qsize 8, out_qsize 0\n",
      "2018-12-26 07:04:00,247 : INFO : EPOCH 1 - PROGRESS: at 44.38% examples, 935158 words/s, in_qsize 7, out_qsize 0\n",
      "2018-12-26 07:04:01,257 : INFO : EPOCH 1 - PROGRESS: at 51.87% examples, 937080 words/s, in_qsize 8, out_qsize 0\n",
      "2018-12-26 07:04:02,263 : INFO : EPOCH 1 - PROGRESS: at 58.95% examples, 934295 words/s, in_qsize 7, out_qsize 0\n",
      "2018-12-26 07:04:03,272 : INFO : EPOCH 1 - PROGRESS: at 66.28% examples, 933555 words/s, in_qsize 7, out_qsize 0\n",
      "2018-12-26 07:04:04,269 : INFO : EPOCH 1 - PROGRESS: at 73.50% examples, 932492 words/s, in_qsize 8, out_qsize 0\n",
      "2018-12-26 07:04:05,275 : INFO : EPOCH 1 - PROGRESS: at 80.53% examples, 928468 words/s, in_qsize 8, out_qsize 0\n",
      "2018-12-26 07:04:06,282 : INFO : EPOCH 1 - PROGRESS: at 87.69% examples, 927204 words/s, in_qsize 7, out_qsize 0\n",
      "2018-12-26 07:04:07,282 : INFO : EPOCH 1 - PROGRESS: at 94.83% examples, 925476 words/s, in_qsize 8, out_qsize 0\n",
      "2018-12-26 07:04:07,974 : INFO : worker thread finished; awaiting finish of 3 more threads\n",
      "2018-12-26 07:04:07,976 : INFO : worker thread finished; awaiting finish of 2 more threads\n",
      "2018-12-26 07:04:07,987 : INFO : worker thread finished; awaiting finish of 1 more threads\n",
      "2018-12-26 07:04:07,992 : INFO : worker thread finished; awaiting finish of 0 more threads\n",
      "2018-12-26 07:04:07,994 : INFO : EPOCH - 1 : training on 17798082 raw words (12751606 effective words) took 13.8s, 925856 effective words/s\n",
      "2018-12-26 07:04:09,010 : INFO : EPOCH 2 - PROGRESS: at 7.02% examples, 887556 words/s, in_qsize 8, out_qsize 0\n",
      "2018-12-26 07:04:10,016 : INFO : EPOCH 2 - PROGRESS: at 14.51% examples, 912441 words/s, in_qsize 7, out_qsize 0\n",
      "2018-12-26 07:04:11,019 : INFO : EPOCH 2 - PROGRESS: at 21.69% examples, 910870 words/s, in_qsize 7, out_qsize 0\n",
      "2018-12-26 07:04:12,026 : INFO : EPOCH 2 - PROGRESS: at 28.59% examples, 901943 words/s, in_qsize 8, out_qsize 0\n",
      "2018-12-26 07:04:13,029 : INFO : EPOCH 2 - PROGRESS: at 35.39% examples, 891579 words/s, in_qsize 8, out_qsize 0\n",
      "2018-12-26 07:04:14,042 : INFO : EPOCH 2 - PROGRESS: at 41.03% examples, 862381 words/s, in_qsize 7, out_qsize 0\n",
      "2018-12-26 07:04:15,046 : INFO : EPOCH 2 - PROGRESS: at 47.17% examples, 851013 words/s, in_qsize 7, out_qsize 0\n",
      "2018-12-26 07:04:16,055 : INFO : EPOCH 2 - PROGRESS: at 53.38% examples, 843078 words/s, in_qsize 8, out_qsize 0\n",
      "2018-12-26 07:04:17,059 : INFO : EPOCH 2 - PROGRESS: at 59.28% examples, 833934 words/s, in_qsize 7, out_qsize 0\n",
      "2018-12-26 07:04:18,069 : INFO : EPOCH 2 - PROGRESS: at 65.45% examples, 828095 words/s, in_qsize 8, out_qsize 0\n",
      "2018-12-26 07:04:19,082 : INFO : EPOCH 2 - PROGRESS: at 71.65% examples, 824455 words/s, in_qsize 6, out_qsize 0\n",
      "2018-12-26 07:04:20,095 : INFO : EPOCH 2 - PROGRESS: at 77.60% examples, 818084 words/s, in_qsize 8, out_qsize 0\n",
      "2018-12-26 07:04:21,095 : INFO : EPOCH 2 - PROGRESS: at 84.11% examples, 818790 words/s, in_qsize 7, out_qsize 0\n",
      "2018-12-26 07:04:22,095 : INFO : EPOCH 2 - PROGRESS: at 90.59% examples, 819309 words/s, in_qsize 8, out_qsize 0\n",
      "2018-12-26 07:04:23,101 : INFO : EPOCH 2 - PROGRESS: at 96.96% examples, 818540 words/s, in_qsize 7, out_qsize 0\n",
      "2018-12-26 07:04:23,549 : INFO : worker thread finished; awaiting finish of 3 more threads\n",
      "2018-12-26 07:04:23,558 : INFO : worker thread finished; awaiting finish of 2 more threads\n",
      "2018-12-26 07:04:23,572 : INFO : worker thread finished; awaiting finish of 1 more threads\n",
      "2018-12-26 07:04:23,576 : INFO : worker thread finished; awaiting finish of 0 more threads\n",
      "2018-12-26 07:04:23,579 : INFO : EPOCH - 2 : training on 17798082 raw words (12750040 effective words) took 15.6s, 818468 effective words/s\n",
      "2018-12-26 07:04:24,588 : INFO : EPOCH 3 - PROGRESS: at 6.29% examples, 800313 words/s, in_qsize 8, out_qsize 0\n",
      "2018-12-26 07:04:25,592 : INFO : EPOCH 3 - PROGRESS: at 12.93% examples, 817508 words/s, in_qsize 8, out_qsize 0\n",
      "2018-12-26 07:04:26,594 : INFO : EPOCH 3 - PROGRESS: at 18.52% examples, 780815 words/s, in_qsize 8, out_qsize 0\n",
      "2018-12-26 07:04:27,598 : INFO : EPOCH 3 - PROGRESS: at 23.88% examples, 753796 words/s, in_qsize 7, out_qsize 0\n",
      "2018-12-26 07:04:28,601 : INFO : EPOCH 3 - PROGRESS: at 29.26% examples, 740184 words/s, in_qsize 7, out_qsize 0\n",
      "2018-12-26 07:04:29,605 : INFO : EPOCH 3 - PROGRESS: at 34.54% examples, 727319 words/s, in_qsize 7, out_qsize 0\n",
      "2018-12-26 07:04:30,608 : INFO : EPOCH 3 - PROGRESS: at 39.81% examples, 719159 words/s, in_qsize 7, out_qsize 0\n",
      "2018-12-26 07:04:31,618 : INFO : EPOCH 3 - PROGRESS: at 45.06% examples, 712527 words/s, in_qsize 8, out_qsize 0\n",
      "2018-12-26 07:04:32,622 : INFO : EPOCH 3 - PROGRESS: at 50.28% examples, 707596 words/s, in_qsize 7, out_qsize 0\n",
      "2018-12-26 07:04:33,638 : INFO : EPOCH 3 - PROGRESS: at 55.49% examples, 702475 words/s, in_qsize 8, out_qsize 0\n",
      "2018-12-26 07:04:34,641 : INFO : EPOCH 3 - PROGRESS: at 60.75% examples, 700027 words/s, in_qsize 6, out_qsize 0\n",
      "2018-12-26 07:04:35,655 : INFO : EPOCH 3 - PROGRESS: at 65.96% examples, 696269 words/s, in_qsize 8, out_qsize 0\n",
      "2018-12-26 07:04:36,660 : INFO : EPOCH 3 - PROGRESS: at 72.44% examples, 706214 words/s, in_qsize 7, out_qsize 0\n",
      "2018-12-26 07:04:37,665 : INFO : EPOCH 3 - PROGRESS: at 78.43% examples, 709898 words/s, in_qsize 8, out_qsize 0\n",
      "2018-12-26 07:04:38,671 : INFO : EPOCH 3 - PROGRESS: at 84.83% examples, 716824 words/s, in_qsize 7, out_qsize 0\n",
      "2018-12-26 07:04:39,674 : INFO : EPOCH 3 - PROGRESS: at 91.15% examples, 722331 words/s, in_qsize 5, out_qsize 0\n",
      "2018-12-26 07:04:40,680 : INFO : EPOCH 3 - PROGRESS: at 97.40% examples, 726386 words/s, in_qsize 7, out_qsize 0\n",
      "2018-12-26 07:04:41,104 : INFO : worker thread finished; awaiting finish of 3 more threads\n",
      "2018-12-26 07:04:41,109 : INFO : worker thread finished; awaiting finish of 2 more threads\n",
      "2018-12-26 07:04:41,125 : INFO : worker thread finished; awaiting finish of 1 more threads\n",
      "2018-12-26 07:04:41,131 : INFO : worker thread finished; awaiting finish of 0 more threads\n",
      "2018-12-26 07:04:41,134 : INFO : EPOCH - 3 : training on 17798082 raw words (12749817 effective words) took 17.5s, 726494 effective words/s\n",
      "2018-12-26 07:04:42,145 : INFO : EPOCH 4 - PROGRESS: at 5.76% examples, 733326 words/s, in_qsize 7, out_qsize 0\n",
      "2018-12-26 07:04:43,153 : INFO : EPOCH 4 - PROGRESS: at 11.79% examples, 741683 words/s, in_qsize 8, out_qsize 0\n",
      "2018-12-26 07:04:44,161 : INFO : EPOCH 4 - PROGRESS: at 18.02% examples, 755437 words/s, in_qsize 8, out_qsize 0\n"
     ]
    },
    {
     "name": "stderr",
     "output_type": "stream",
     "text": [
      "2018-12-26 07:04:45,165 : INFO : EPOCH 4 - PROGRESS: at 24.09% examples, 759211 words/s, in_qsize 7, out_qsize 0\n",
      "2018-12-26 07:04:46,174 : INFO : EPOCH 4 - PROGRESS: at 30.44% examples, 767512 words/s, in_qsize 8, out_qsize 0\n",
      "2018-12-26 07:04:47,176 : INFO : EPOCH 4 - PROGRESS: at 36.68% examples, 770268 words/s, in_qsize 8, out_qsize 0\n",
      "2018-12-26 07:04:48,181 : INFO : EPOCH 4 - PROGRESS: at 42.69% examples, 769916 words/s, in_qsize 8, out_qsize 0\n",
      "2018-12-26 07:04:49,186 : INFO : EPOCH 4 - PROGRESS: at 49.10% examples, 775917 words/s, in_qsize 7, out_qsize 0\n",
      "2018-12-26 07:04:50,188 : INFO : EPOCH 4 - PROGRESS: at 55.55% examples, 780813 words/s, in_qsize 7, out_qsize 0\n",
      "2018-12-26 07:04:51,193 : INFO : EPOCH 4 - PROGRESS: at 61.92% examples, 784656 words/s, in_qsize 6, out_qsize 1\n",
      "2018-12-26 07:04:52,203 : INFO : EPOCH 4 - PROGRESS: at 68.43% examples, 787741 words/s, in_qsize 7, out_qsize 0\n",
      "2018-12-26 07:04:53,217 : INFO : EPOCH 4 - PROGRESS: at 73.68% examples, 777554 words/s, in_qsize 8, out_qsize 0\n",
      "2018-12-26 07:04:54,221 : INFO : EPOCH 4 - PROGRESS: at 78.84% examples, 768230 words/s, in_qsize 8, out_qsize 0\n",
      "2018-12-26 07:04:55,221 : INFO : EPOCH 4 - PROGRESS: at 84.06% examples, 760869 words/s, in_qsize 7, out_qsize 0\n",
      "2018-12-26 07:04:56,229 : INFO : EPOCH 4 - PROGRESS: at 89.10% examples, 752828 words/s, in_qsize 7, out_qsize 0\n",
      "2018-12-26 07:04:57,236 : INFO : EPOCH 4 - PROGRESS: at 94.10% examples, 745194 words/s, in_qsize 8, out_qsize 0\n",
      "2018-12-26 07:04:58,246 : INFO : EPOCH 4 - PROGRESS: at 99.11% examples, 738841 words/s, in_qsize 7, out_qsize 0\n",
      "2018-12-26 07:04:58,381 : INFO : worker thread finished; awaiting finish of 3 more threads\n",
      "2018-12-26 07:04:58,384 : INFO : worker thread finished; awaiting finish of 2 more threads\n",
      "2018-12-26 07:04:58,404 : INFO : worker thread finished; awaiting finish of 1 more threads\n",
      "2018-12-26 07:04:58,411 : INFO : worker thread finished; awaiting finish of 0 more threads\n",
      "2018-12-26 07:04:58,414 : INFO : EPOCH - 4 : training on 17798082 raw words (12748396 effective words) took 17.3s, 737900 effective words/s\n",
      "2018-12-26 07:04:59,430 : INFO : EPOCH 5 - PROGRESS: at 5.03% examples, 640051 words/s, in_qsize 7, out_qsize 0\n",
      "2018-12-26 07:05:00,438 : INFO : EPOCH 5 - PROGRESS: at 10.31% examples, 649068 words/s, in_qsize 8, out_qsize 0\n",
      "2018-12-26 07:05:01,444 : INFO : EPOCH 5 - PROGRESS: at 15.68% examples, 658826 words/s, in_qsize 5, out_qsize 0\n",
      "2018-12-26 07:05:02,447 : INFO : EPOCH 5 - PROGRESS: at 21.35% examples, 671826 words/s, in_qsize 8, out_qsize 0\n",
      "2018-12-26 07:05:03,460 : INFO : EPOCH 5 - PROGRESS: at 27.58% examples, 693788 words/s, in_qsize 8, out_qsize 0\n",
      "2018-12-26 07:05:04,469 : INFO : EPOCH 5 - PROGRESS: at 33.99% examples, 712165 words/s, in_qsize 6, out_qsize 0\n",
      "2018-12-26 07:05:05,473 : INFO : EPOCH 5 - PROGRESS: at 39.81% examples, 716082 words/s, in_qsize 7, out_qsize 0\n",
      "2018-12-26 07:05:06,482 : INFO : EPOCH 5 - PROGRESS: at 46.11% examples, 726851 words/s, in_qsize 7, out_qsize 0\n",
      "2018-12-26 07:05:07,483 : INFO : EPOCH 5 - PROGRESS: at 52.32% examples, 734180 words/s, in_qsize 7, out_qsize 0\n",
      "2018-12-26 07:05:08,483 : INFO : EPOCH 5 - PROGRESS: at 58.46% examples, 739791 words/s, in_qsize 6, out_qsize 0\n",
      "2018-12-26 07:05:09,494 : INFO : EPOCH 5 - PROGRESS: at 64.38% examples, 740845 words/s, in_qsize 8, out_qsize 0\n",
      "2018-12-26 07:05:10,496 : INFO : EPOCH 5 - PROGRESS: at 70.27% examples, 741380 words/s, in_qsize 7, out_qsize 0\n",
      "2018-12-26 07:05:11,507 : INFO : EPOCH 5 - PROGRESS: at 76.38% examples, 743749 words/s, in_qsize 8, out_qsize 0\n",
      "2018-12-26 07:05:12,523 : INFO : EPOCH 5 - PROGRESS: at 82.61% examples, 746591 words/s, in_qsize 8, out_qsize 0\n",
      "2018-12-26 07:05:13,528 : INFO : EPOCH 5 - PROGRESS: at 88.92% examples, 750130 words/s, in_qsize 8, out_qsize 0\n",
      "2018-12-26 07:05:14,539 : INFO : EPOCH 5 - PROGRESS: at 95.17% examples, 752568 words/s, in_qsize 7, out_qsize 0\n",
      "2018-12-26 07:05:15,288 : INFO : worker thread finished; awaiting finish of 3 more threads\n",
      "2018-12-26 07:05:15,305 : INFO : worker thread finished; awaiting finish of 2 more threads\n",
      "2018-12-26 07:05:15,311 : INFO : worker thread finished; awaiting finish of 1 more threads\n",
      "2018-12-26 07:05:15,313 : INFO : worker thread finished; awaiting finish of 0 more threads\n",
      "2018-12-26 07:05:15,315 : INFO : EPOCH - 5 : training on 17798082 raw words (12749334 effective words) took 16.9s, 754549 effective words/s\n",
      "2018-12-26 07:05:15,318 : INFO : training on a 88990410 raw words (63749193 effective words) took 81.1s, 786065 effective words/s\n",
      "2018-12-26 07:05:15,319 : INFO : precomputing L2-norms of word weight vectors\n",
      "2018-12-26 07:05:15,493 : INFO : saving Word2Vec object under 300features_40minwords_10context, separately None\n",
      "2018-12-26 07:05:15,496 : INFO : not storing attribute vectors_norm\n",
      "2018-12-26 07:05:15,500 : INFO : not storing attribute cum_table\n",
      "2018-12-26 07:05:15,688 : INFO : saved 300features_40minwords_10context\n"
     ]
    }
   ],
   "source": [
    "# Import the built-in logging module and configure it so that Word2Vec \n",
    "# creates nice output messages\n",
    "import logging\n",
    "logging.basicConfig(format='%(asctime)s : %(levelname)s : %(message)s',\\\n",
    "    level=logging.INFO)\n",
    "\n",
    "# Set values for various parameters\n",
    "num_features = 300    # Word vector dimensionality                      \n",
    "min_word_count = 40   # Minimum word count                        \n",
    "num_workers = 4       # Number of threads to run in parallel\n",
    "context = 10          # Context window size                                                                                    \n",
    "downsampling = 1e-3   # Downsample setting for frequent words\n",
    "\n",
    "# Initialize and train the model (this will take some time)\n",
    "from gensim.models import word2vec\n",
    "print \"Training model...\"\n",
    "model = word2vec.Word2Vec(sentences, workers=num_workers, \\\n",
    "            size=num_features, min_count = min_word_count, \\\n",
    "            window = context, sample = downsampling)\n",
    "\n",
    "# If you don't plan to train the model any further, calling \n",
    "# init_sims will make the model much more memory-efficient.\n",
    "model.init_sims(replace=True)\n",
    "\n",
    "# It can be helpful to create a meaningful model name and \n",
    "# save the model for later use. You can load it later using Word2Vec.load()\n",
    "model_name = \"300features_40minwords_10context\"\n",
    "model.save(model_name)"
   ]
  },
  {
   "cell_type": "code",
   "execution_count": 9,
   "metadata": {},
   "outputs": [
    {
     "name": "stderr",
     "output_type": "stream",
     "text": [
      "C:\\Users\\HoneyLab\\AppData\\Local\\conda\\conda\\envs\\ipykernel_py2\\lib\\site-packages\\ipykernel_launcher.py:1: DeprecationWarning: Call to deprecated `doesnt_match` (Method will be removed in 4.0.0, use self.wv.doesnt_match() instead).\n",
      "  \"\"\"Entry point for launching an IPython kernel.\n",
      "C:\\Users\\HoneyLab\\AppData\\Local\\conda\\conda\\envs\\ipykernel_py2\\lib\\site-packages\\gensim\\matutils.py:737: FutureWarning: Conversion of the second argument of issubdtype from `int` to `np.signedinteger` is deprecated. In future, it will be treated as `np.int32 == np.dtype(int).type`.\n",
      "  if np.issubdtype(vec.dtype, np.int):\n"
     ]
    },
    {
     "data": {
      "text/plain": [
       "'kitchen'"
      ]
     },
     "execution_count": 9,
     "metadata": {},
     "output_type": "execute_result"
    }
   ],
   "source": [
    "model.doesnt_match(\"man woman child kitchen\".split())"
   ]
  },
  {
   "cell_type": "code",
   "execution_count": 10,
   "metadata": {},
   "outputs": [
    {
     "data": {
      "text/plain": [
       "'kitchen'"
      ]
     },
     "execution_count": 10,
     "metadata": {},
     "output_type": "execute_result"
    }
   ],
   "source": [
    "model.wv.doesnt_match(\"man woman child kitchen\".split())"
   ]
  },
  {
   "cell_type": "code",
   "execution_count": 12,
   "metadata": {},
   "outputs": [
    {
     "data": {
      "text/plain": [
       "'berlin'"
      ]
     },
     "execution_count": 12,
     "metadata": {},
     "output_type": "execute_result"
    }
   ],
   "source": [
    "model.wv.doesnt_match(\"france england germany berlin\".split())"
   ]
  },
  {
   "cell_type": "code",
   "execution_count": 13,
   "metadata": {},
   "outputs": [
    {
     "data": {
      "text/plain": [
       "'paris'"
      ]
     },
     "execution_count": 13,
     "metadata": {},
     "output_type": "execute_result"
    }
   ],
   "source": [
    "model.wv.doesnt_match(\"paris berlin london austria\".split())"
   ]
  },
  {
   "cell_type": "code",
   "execution_count": 15,
   "metadata": {},
   "outputs": [
    {
     "data": {
      "text/plain": [
       "[(u'woman', 0.6176740527153015),\n",
       " (u'lady', 0.5941395163536072),\n",
       " (u'lad', 0.5796729922294617),\n",
       " (u'farmer', 0.5346046090126038),\n",
       " (u'guy', 0.5274239778518677),\n",
       " (u'men', 0.5043917298316956),\n",
       " (u'gentleman', 0.49941501021385193),\n",
       " (u'monk', 0.49880602955818176),\n",
       " (u'millionaire', 0.4961532950401306),\n",
       " (u'person', 0.4944237172603607)]"
      ]
     },
     "execution_count": 15,
     "metadata": {},
     "output_type": "execute_result"
    }
   ],
   "source": [
    "model.wv.most_similar(\"man\")"
   ]
  },
  {
   "cell_type": "code",
   "execution_count": 18,
   "metadata": {},
   "outputs": [
    {
     "data": {
      "text/plain": [
       "[(u'princess', 0.6740788221359253),\n",
       " (u'bride', 0.6250922679901123),\n",
       " (u'belle', 0.604849100112915),\n",
       " (u'showgirl', 0.6033759117126465),\n",
       " (u'victoria', 0.5857219099998474),\n",
       " (u'stepmother', 0.5800154209136963),\n",
       " (u'maid', 0.578443169593811),\n",
       " (u'eva', 0.571523904800415),\n",
       " (u'duchess', 0.566586971282959),\n",
       " (u'nun', 0.5619477033615112)]"
      ]
     },
     "execution_count": 18,
     "metadata": {},
     "output_type": "execute_result"
    }
   ],
   "source": [
    "model.wv.most_similar(\"queen\")"
   ]
  },
  {
   "cell_type": "code",
   "execution_count": 19,
   "metadata": {},
   "outputs": [
    {
     "data": {
      "text/plain": [
       "[(u'terrible', 0.7874165773391724),\n",
       " (u'atrocious', 0.7544002532958984),\n",
       " (u'horrible', 0.748379111289978),\n",
       " (u'dreadful', 0.7367974519729614),\n",
       " (u'abysmal', 0.7315496206283569),\n",
       " (u'horrendous', 0.725097119808197),\n",
       " (u'horrid', 0.6828507781028748),\n",
       " (u'appalling', 0.680413544178009),\n",
       " (u'amateurish', 0.6349622011184692),\n",
       " (u'lousy', 0.6284615993499756)]"
      ]
     },
     "execution_count": 19,
     "metadata": {},
     "output_type": "execute_result"
    }
   ],
   "source": [
    "model.wv.most_similar(\"awful\")"
   ]
  }
 ],
 "metadata": {
  "kernelspec": {
   "display_name": "Python 2",
   "language": "python",
   "name": "python2"
  },
  "language_info": {
   "codemirror_mode": {
    "name": "ipython",
    "version": 2
   },
   "file_extension": ".py",
   "mimetype": "text/x-python",
   "name": "python",
   "nbconvert_exporter": "python",
   "pygments_lexer": "ipython2",
   "version": "2.7.15"
  }
 },
 "nbformat": 4,
 "nbformat_minor": 2
}
